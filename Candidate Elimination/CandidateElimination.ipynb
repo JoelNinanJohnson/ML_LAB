{
 "cells": [
  {
   "cell_type": "code",
   "execution_count": 1,
   "id": "c590c514",
   "metadata": {},
   "outputs": [
    {
     "name": "stdout",
     "output_type": "stream",
     "text": [
      "[['sunny' 'warm' 'normal' 'strong' 'warm' 'same']\n",
      " ['sunny' 'warm' 'high' 'strong' 'warm' 'same']\n",
      " ['rainy' 'cold' 'high' 'strong' 'warm' 'change']\n",
      " ['sunny' 'warm' 'high' 'strong' 'cool' 'change']]\n",
      "['yes' 'yes' 'no' 'yes']\n"
     ]
    }
   ],
   "source": [
    "import numpy as np\n",
    "import pandas as pd\n",
    "data =pd.DataFrame(data= pd.read_csv(\"./enjoysport.csv\"))\n",
    "concepts = np.array(data.iloc[:,0:-1])\n",
    "print(concepts)\n",
    "target = np.array(data.iloc[:,-1])\n",
    "print(target)"
   ]
  },
  {
   "cell_type": "code",
   "execution_count": 3,
   "id": "3614c60f",
   "metadata": {},
   "outputs": [],
   "source": [
    "def learn(concepts, target):\n",
    "    specific_h = concepts[0].copy()\n",
    "    print(\"Initialization of specific hypothesis and general hypothesis:\")\n",
    "    print(\"S0: \",specific_h)\n",
    "    general_h = [[\"?\" for i in range(len(specific_h))] for i in range(len(specific_h))]\n",
    "    print(\"G0: \",general_h)\n",
    "    for i, h in enumerate(concepts):\n",
    "        if target[i] == \"yes\":\n",
    "            for x in range(len(specific_h)):\n",
    "                if h[x] != specific_h[x]:\n",
    "                    specific_h[x] = \"?\"\n",
    "                    general_h[x][x] = \"?\"\n",
    "        if target[i] == \"no\":\n",
    "            for x in range(len(specific_h)):\n",
    "                if h[x] !=specific_h[x]:\n",
    "                    general_h[x][x] = specific_h[x]\n",
    "                else: \n",
    "                    general_h[x][x] = \"?\"\n",
    "        print(\"\\nThe steps of Candidate Elimination Algorithm \", i+1)\n",
    "        print(f\"S{i+1}: \" ,specific_h)\n",
    "        actual_general_h= [i for i in general_h if i != ['?', '?', '?', '?', '?', '?']]\n",
    "        print(f\"G{i+1}: \",actual_general_h)\n",
    "    actual_general_h= [i for i in general_h if i != [\"?\" for i in range(len(specific_h))]]\n",
    "    return specific_h, actual_general_h"
   ]
  },
  {
   "cell_type": "code",
   "execution_count": 4,
   "id": "0da3be1a",
   "metadata": {},
   "outputs": [
    {
     "name": "stdout",
     "output_type": "stream",
     "text": [
      "Initialization of specific hypothesis and general hypothesis:\n",
      "S0:  ['sunny' 'warm' 'normal' 'strong' 'warm' 'same']\n",
      "G0:  [['?', '?', '?', '?', '?', '?'], ['?', '?', '?', '?', '?', '?'], ['?', '?', '?', '?', '?', '?'], ['?', '?', '?', '?', '?', '?'], ['?', '?', '?', '?', '?', '?'], ['?', '?', '?', '?', '?', '?']]\n",
      "\n",
      "The steps of Candidate Elimination Algorithm  1\n",
      "S1:  ['sunny' 'warm' 'normal' 'strong' 'warm' 'same']\n",
      "G1:  []\n",
      "\n",
      "The steps of Candidate Elimination Algorithm  2\n",
      "S2:  ['sunny' 'warm' '?' 'strong' 'warm' 'same']\n",
      "G2:  []\n",
      "\n",
      "The steps of Candidate Elimination Algorithm  3\n",
      "S3:  ['sunny' 'warm' '?' 'strong' 'warm' 'same']\n",
      "G3:  [['sunny', '?', '?', '?', '?', '?'], ['?', 'warm', '?', '?', '?', '?'], ['?', '?', '?', '?', '?', 'same']]\n",
      "\n",
      "The steps of Candidate Elimination Algorithm  4\n",
      "S4:  ['sunny' 'warm' '?' 'strong' '?' '?']\n",
      "G4:  [['sunny', '?', '?', '?', '?', '?'], ['?', 'warm', '?', '?', '?', '?']]\n",
      "\n",
      "The final Specific hypothesis is: \n",
      "['sunny' 'warm' '?' 'strong' '?' '?']\n",
      "The final General Hypothesis is: \n",
      "[['sunny', '?', '?', '?', '?', '?'], ['?', 'warm', '?', '?', '?', '?']]\n"
     ]
    }
   ],
   "source": [
    "s_final, g_final = learn(concepts, target)\n",
    "print(\"\\nThe final Specific hypothesis is: \", s_final, sep=\"\\n\")\n",
    "print(\"The final General Hypothesis is: \", g_final, sep=\"\\n\")"
   ]
  },
  {
   "cell_type": "code",
   "execution_count": null,
   "id": "66a63b91",
   "metadata": {},
   "outputs": [],
   "source": []
  }
 ],
 "metadata": {
  "kernelspec": {
   "display_name": "Python 3 (ipykernel)",
   "language": "python",
   "name": "python3"
  },
  "language_info": {
   "codemirror_mode": {
    "name": "ipython",
    "version": 3
   },
   "file_extension": ".py",
   "mimetype": "text/x-python",
   "name": "python",
   "nbconvert_exporter": "python",
   "pygments_lexer": "ipython3",
   "version": "3.9.7"
  }
 },
 "nbformat": 4,
 "nbformat_minor": 5
}
